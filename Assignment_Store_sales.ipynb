{
  "cells": [
    {
      "cell_type": "markdown",
      "id": "d736cf34-e043-4789-91b0-c19887e0143f",
      "metadata": {
        "id": "d736cf34-e043-4789-91b0-c19887e0143f"
      },
      "source": [
        "# Assignment on Store_sales dataset\n",
        "\n",
        "**Load the Dataset**"
      ]
    },
    {
      "cell_type": "code",
      "execution_count": 3,
      "id": "fd79e268-0bd3-4844-af8d-0b1e2b7ceea6",
      "metadata": {
        "colab": {
          "base_uri": "https://localhost:8080/"
        },
        "id": "fd79e268-0bd3-4844-af8d-0b1e2b7ceea6",
        "outputId": "d4fa29da-231b-4636-ce78-3d207eebaf94"
      },
      "outputs": [
        {
          "output_type": "stream",
          "name": "stdout",
          "text": [
            "  store_id        city  Jan  Feb  Mar  Apr  May  Jun  July  Aug  Sep  Oct  \\\n",
            "0      S_1       Texas    8   20   13   21   17   20    24   17   16    9   \n",
            "1      S_2  California   12   19   15   15   11   19     7   15   10   11   \n",
            "2      S_3  California   16   16   14   19   23    6    13   13   15   14   \n",
            "3      S_4       Texas    8   18   13   10   14   14     6    8    8   18   \n",
            "4      S_5       Texas   19    5   24    9    5   24    10    5   24   15   \n",
            "\n",
            "   Nov  Dec  \n",
            "0    7    6  \n",
            "1   21   19  \n",
            "2   24    8  \n",
            "3    7   11  \n",
            "4    6   13  \n",
            "<class 'pandas.core.frame.DataFrame'>\n",
            "RangeIndex: 100 entries, 0 to 99\n",
            "Data columns (total 14 columns):\n",
            " #   Column    Non-Null Count  Dtype \n",
            "---  ------    --------------  ----- \n",
            " 0   store_id  100 non-null    object\n",
            " 1   city      100 non-null    object\n",
            " 2   Jan       100 non-null    int64 \n",
            " 3   Feb       100 non-null    int64 \n",
            " 4   Mar       100 non-null    int64 \n",
            " 5   Apr       100 non-null    int64 \n",
            " 6   May       100 non-null    int64 \n",
            " 7   Jun       100 non-null    int64 \n",
            " 8   July      100 non-null    int64 \n",
            " 9   Aug       100 non-null    int64 \n",
            " 10  Sep       100 non-null    int64 \n",
            " 11  Oct       100 non-null    int64 \n",
            " 12  Nov       100 non-null    int64 \n",
            " 13  Dec       100 non-null    int64 \n",
            "dtypes: int64(12), object(2)\n",
            "memory usage: 11.1+ KB\n",
            "None\n"
          ]
        }
      ],
      "source": [
        "import pandas as pd\n",
        "import numpy as np\n",
        "df = pd.read_csv('store_sales.csv')\n",
        "print(df.head())\n",
        "print(df.info())\n"
      ]
    },
    {
      "cell_type": "markdown",
      "id": "13b8009e-28aa-4c56-8804-a6c417182541",
      "metadata": {
        "id": "13b8009e-28aa-4c56-8804-a6c417182541"
      },
      "source": [
        "**Calculate the total sales for each store across all months.**"
      ]
    },
    {
      "cell_type": "code",
      "execution_count": 11,
      "id": "3f148a00-b0e5-4caf-85d3-3483c4f62697",
      "metadata": {
        "colab": {
          "base_uri": "https://localhost:8080/"
        },
        "id": "3f148a00-b0e5-4caf-85d3-3483c4f62697",
        "outputId": "884f44d0-11a9-4d04-97d8-7d05783f771c"
      },
      "outputs": [
        {
          "output_type": "stream",
          "name": "stdout",
          "text": [
            "   store_id  total Sales\n",
            "0       S_1          356\n",
            "1       S_2          348\n",
            "2       S_3          362\n",
            "3       S_4          270\n",
            "4       S_5          318\n",
            "..      ...          ...\n",
            "95     S_96          370\n",
            "96     S_97          308\n",
            "97     S_98          336\n",
            "98     S_99          346\n",
            "99    S_100          360\n",
            "\n",
            "[100 rows x 2 columns]\n"
          ]
        }
      ],
      "source": [
        "df['total Sales'] = df.iloc[:, 2:].sum(axis=1)\n",
        "print(df[['store_id','total Sales']])"
      ]
    },
    {
      "cell_type": "markdown",
      "id": "47673b50-bfea-4eb6-9e50-918e87c7c1ff",
      "metadata": {
        "id": "47673b50-bfea-4eb6-9e50-918e87c7c1ff"
      },
      "source": [
        "**Find the average sales for each month across all stores**"
      ]
    },
    {
      "cell_type": "code",
      "execution_count": null,
      "id": "cfea1028-bd85-4552-ab60-936a13c7d84b",
      "metadata": {
        "colab": {
          "base_uri": "https://localhost:8080/",
          "height": 460
        },
        "id": "cfea1028-bd85-4552-ab60-936a13c7d84b",
        "outputId": "ead0b64b-edfb-416d-dcf5-61e79fb73da8"
      },
      "outputs": [
        {
          "output_type": "execute_result",
          "data": {
            "text/plain": [
              "Jan     14.46\n",
              "Feb     15.09\n",
              "Mar     14.56\n",
              "Apr     14.57\n",
              "May     13.56\n",
              "Jun     13.80\n",
              "July    14.38\n",
              "Aug     15.81\n",
              "Sep     14.91\n",
              "Oct     14.10\n",
              "Nov     15.31\n",
              "Dec     13.57\n",
              "dtype: float64"
            ],
            "text/html": [
              "<div>\n",
              "<style scoped>\n",
              "    .dataframe tbody tr th:only-of-type {\n",
              "        vertical-align: middle;\n",
              "    }\n",
              "\n",
              "    .dataframe tbody tr th {\n",
              "        vertical-align: top;\n",
              "    }\n",
              "\n",
              "    .dataframe thead th {\n",
              "        text-align: right;\n",
              "    }\n",
              "</style>\n",
              "<table border=\"1\" class=\"dataframe\">\n",
              "  <thead>\n",
              "    <tr style=\"text-align: right;\">\n",
              "      <th></th>\n",
              "      <th>0</th>\n",
              "    </tr>\n",
              "  </thead>\n",
              "  <tbody>\n",
              "    <tr>\n",
              "      <th>Jan</th>\n",
              "      <td>14.46</td>\n",
              "    </tr>\n",
              "    <tr>\n",
              "      <th>Feb</th>\n",
              "      <td>15.09</td>\n",
              "    </tr>\n",
              "    <tr>\n",
              "      <th>Mar</th>\n",
              "      <td>14.56</td>\n",
              "    </tr>\n",
              "    <tr>\n",
              "      <th>Apr</th>\n",
              "      <td>14.57</td>\n",
              "    </tr>\n",
              "    <tr>\n",
              "      <th>May</th>\n",
              "      <td>13.56</td>\n",
              "    </tr>\n",
              "    <tr>\n",
              "      <th>Jun</th>\n",
              "      <td>13.80</td>\n",
              "    </tr>\n",
              "    <tr>\n",
              "      <th>July</th>\n",
              "      <td>14.38</td>\n",
              "    </tr>\n",
              "    <tr>\n",
              "      <th>Aug</th>\n",
              "      <td>15.81</td>\n",
              "    </tr>\n",
              "    <tr>\n",
              "      <th>Sep</th>\n",
              "      <td>14.91</td>\n",
              "    </tr>\n",
              "    <tr>\n",
              "      <th>Oct</th>\n",
              "      <td>14.10</td>\n",
              "    </tr>\n",
              "    <tr>\n",
              "      <th>Nov</th>\n",
              "      <td>15.31</td>\n",
              "    </tr>\n",
              "    <tr>\n",
              "      <th>Dec</th>\n",
              "      <td>13.57</td>\n",
              "    </tr>\n",
              "  </tbody>\n",
              "</table>\n",
              "</div><br><label><b>dtype:</b> float64</label>"
            ]
          },
          "metadata": {},
          "execution_count": 36
        }
      ],
      "source": [
        "\n",
        "average_sales_by_month = df.iloc[:, 2:-3].mean()\n",
        "average_sales_by_month"
      ]
    },
    {
      "cell_type": "markdown",
      "id": "6dd912e0-9984-42b8-9bf0-db10a69a300c",
      "metadata": {
        "id": "6dd912e0-9984-42b8-9bf0-db10a69a300c"
      },
      "source": [
        "**Identify the store with the highest total sales.**"
      ]
    },
    {
      "cell_type": "code",
      "execution_count": null,
      "id": "dca54b78-dbe5-4095-8e14-e1a73c34dff6",
      "metadata": {
        "colab": {
          "base_uri": "https://localhost:8080/",
          "height": 617
        },
        "id": "dca54b78-dbe5-4095-8e14-e1a73c34dff6",
        "outputId": "9ef03808-8b5a-469a-f532-866779ec8662"
      },
      "outputs": [
        {
          "output_type": "execute_result",
          "data": {
            "text/plain": [
              "store_id                S_62\n",
              "city              California\n",
              "Jan                       16\n",
              "Feb                       21\n",
              "Mar                        6\n",
              "Apr                       22\n",
              "May                       22\n",
              "Jun                        9\n",
              "July                      21\n",
              "Aug                       21\n",
              "Sep                       22\n",
              "Oct                       17\n",
              "Nov                       16\n",
              "Dec                       21\n",
              "total Sales            214.0\n",
              "aaverage sales     17.545455\n",
              "average sales      17.545455\n",
              "Name: 61, dtype: object"
            ],
            "text/html": [
              "<div>\n",
              "<style scoped>\n",
              "    .dataframe tbody tr th:only-of-type {\n",
              "        vertical-align: middle;\n",
              "    }\n",
              "\n",
              "    .dataframe tbody tr th {\n",
              "        vertical-align: top;\n",
              "    }\n",
              "\n",
              "    .dataframe thead th {\n",
              "        text-align: right;\n",
              "    }\n",
              "</style>\n",
              "<table border=\"1\" class=\"dataframe\">\n",
              "  <thead>\n",
              "    <tr style=\"text-align: right;\">\n",
              "      <th></th>\n",
              "      <th>61</th>\n",
              "    </tr>\n",
              "  </thead>\n",
              "  <tbody>\n",
              "    <tr>\n",
              "      <th>store_id</th>\n",
              "      <td>S_62</td>\n",
              "    </tr>\n",
              "    <tr>\n",
              "      <th>city</th>\n",
              "      <td>California</td>\n",
              "    </tr>\n",
              "    <tr>\n",
              "      <th>Jan</th>\n",
              "      <td>16</td>\n",
              "    </tr>\n",
              "    <tr>\n",
              "      <th>Feb</th>\n",
              "      <td>21</td>\n",
              "    </tr>\n",
              "    <tr>\n",
              "      <th>Mar</th>\n",
              "      <td>6</td>\n",
              "    </tr>\n",
              "    <tr>\n",
              "      <th>Apr</th>\n",
              "      <td>22</td>\n",
              "    </tr>\n",
              "    <tr>\n",
              "      <th>May</th>\n",
              "      <td>22</td>\n",
              "    </tr>\n",
              "    <tr>\n",
              "      <th>Jun</th>\n",
              "      <td>9</td>\n",
              "    </tr>\n",
              "    <tr>\n",
              "      <th>July</th>\n",
              "      <td>21</td>\n",
              "    </tr>\n",
              "    <tr>\n",
              "      <th>Aug</th>\n",
              "      <td>21</td>\n",
              "    </tr>\n",
              "    <tr>\n",
              "      <th>Sep</th>\n",
              "      <td>22</td>\n",
              "    </tr>\n",
              "    <tr>\n",
              "      <th>Oct</th>\n",
              "      <td>17</td>\n",
              "    </tr>\n",
              "    <tr>\n",
              "      <th>Nov</th>\n",
              "      <td>16</td>\n",
              "    </tr>\n",
              "    <tr>\n",
              "      <th>Dec</th>\n",
              "      <td>21</td>\n",
              "    </tr>\n",
              "    <tr>\n",
              "      <th>total Sales</th>\n",
              "      <td>214.0</td>\n",
              "    </tr>\n",
              "    <tr>\n",
              "      <th>aaverage sales</th>\n",
              "      <td>17.545455</td>\n",
              "    </tr>\n",
              "    <tr>\n",
              "      <th>average sales</th>\n",
              "      <td>17.545455</td>\n",
              "    </tr>\n",
              "  </tbody>\n",
              "</table>\n",
              "</div><br><label><b>dtype:</b> object</label>"
            ]
          },
          "metadata": {},
          "execution_count": 43
        }
      ],
      "source": [
        "highest_sales_store = df.loc[df['total Sales'].idxmax()]\n",
        "highest_sales_store"
      ]
    },
    {
      "cell_type": "markdown",
      "id": "1c6e048a-7dbe-4975-8126-0ff9d46d0b8d",
      "metadata": {
        "id": "1c6e048a-7dbe-4975-8126-0ff9d46d0b8d"
      },
      "source": [
        "**Calculate the total sales for each city.**"
      ]
    },
    {
      "cell_type": "code",
      "execution_count": 17,
      "id": "98fdf5f3-5721-4353-b34d-713e98c20450",
      "metadata": {
        "id": "98fdf5f3-5721-4353-b34d-713e98c20450",
        "colab": {
          "base_uri": "https://localhost:8080/",
          "height": 209
        },
        "outputId": "7950d3a2-a73a-45f0-80b4-73a0b17eca1a"
      },
      "outputs": [
        {
          "output_type": "execute_result",
          "data": {
            "text/plain": [
              "city\n",
              "Arizona       15804\n",
              "California    30088\n",
              "Texas         23756\n",
              "Name: total Sales, dtype: int64"
            ],
            "text/html": [
              "<div>\n",
              "<style scoped>\n",
              "    .dataframe tbody tr th:only-of-type {\n",
              "        vertical-align: middle;\n",
              "    }\n",
              "\n",
              "    .dataframe tbody tr th {\n",
              "        vertical-align: top;\n",
              "    }\n",
              "\n",
              "    .dataframe thead th {\n",
              "        text-align: right;\n",
              "    }\n",
              "</style>\n",
              "<table border=\"1\" class=\"dataframe\">\n",
              "  <thead>\n",
              "    <tr style=\"text-align: right;\">\n",
              "      <th></th>\n",
              "      <th>total Sales</th>\n",
              "    </tr>\n",
              "    <tr>\n",
              "      <th>city</th>\n",
              "      <th></th>\n",
              "    </tr>\n",
              "  </thead>\n",
              "  <tbody>\n",
              "    <tr>\n",
              "      <th>Arizona</th>\n",
              "      <td>15804</td>\n",
              "    </tr>\n",
              "    <tr>\n",
              "      <th>California</th>\n",
              "      <td>30088</td>\n",
              "    </tr>\n",
              "    <tr>\n",
              "      <th>Texas</th>\n",
              "      <td>23756</td>\n",
              "    </tr>\n",
              "  </tbody>\n",
              "</table>\n",
              "</div><br><label><b>dtype:</b> int64</label>"
            ]
          },
          "metadata": {},
          "execution_count": 17
        }
      ],
      "source": [
        "m = df.groupby('city')['total Sales'].sum()\n",
        "m"
      ]
    },
    {
      "cell_type": "markdown",
      "id": "b9cd0e10-c37e-485a-9b6b-e6a67cd19c7d",
      "metadata": {
        "id": "b9cd0e10-c37e-485a-9b6b-e6a67cd19c7d"
      },
      "source": [
        "**List stores with total sales greater than 200**"
      ]
    },
    {
      "cell_type": "code",
      "execution_count": 13,
      "id": "a1134ab7-96fe-416c-8da1-daddad0064e6",
      "metadata": {
        "id": "a1134ab7-96fe-416c-8da1-daddad0064e6",
        "colab": {
          "base_uri": "https://localhost:8080/"
        },
        "outputId": "0dd28a14-803d-4ef0-9804-ab1e93ecf04c"
      },
      "outputs": [
        {
          "output_type": "stream",
          "name": "stdout",
          "text": [
            "   store_id  total Sales\n",
            "0       S_1          712\n",
            "1       S_2          696\n",
            "2       S_3          724\n",
            "3       S_4          540\n",
            "4       S_5          636\n",
            "..      ...          ...\n",
            "95     S_96          740\n",
            "96     S_97          616\n",
            "97     S_98          672\n",
            "98     S_99          692\n",
            "99    S_100          720\n",
            "\n",
            "[100 rows x 2 columns]\n"
          ]
        }
      ],
      "source": [
        "\n",
        "s = df[df['total Sales'] > 200]\n",
        "print(s[['store_id', 'total Sales']])"
      ]
    },
    {
      "cell_type": "markdown",
      "id": "00a46208-69b2-4577-9f68-c278af43c557",
      "metadata": {
        "id": "00a46208-69b2-4577-9f68-c278af43c557"
      },
      "source": [
        "**Which month had the highest average sales across all stores?**\n"
      ]
    },
    {
      "cell_type": "code",
      "execution_count": 29,
      "id": "9b85a613-a4b4-499c-9782-97e585120f52",
      "metadata": {
        "id": "9b85a613-a4b4-499c-9782-97e585120f52",
        "colab": {
          "base_uri": "https://localhost:8080/",
          "height": 36
        },
        "outputId": "e5da8984-a0fc-468c-fba5-beec15fafb09"
      },
      "outputs": [
        {
          "output_type": "execute_result",
          "data": {
            "text/plain": [
              "'Aug'"
            ],
            "application/vnd.google.colaboratory.intrinsic+json": {
              "type": "string"
            }
          },
          "metadata": {},
          "execution_count": 29
        }
      ],
      "source": [
        "av = df.iloc[:,2:-3].mean()\n",
        "av.idxmax()"
      ]
    },
    {
      "cell_type": "markdown",
      "id": "37455b7e-1c05-45d5-9dd1-454527319264",
      "metadata": {
        "id": "37455b7e-1c05-45d5-9dd1-454527319264"
      },
      "source": [
        "**Which city generated the most revenue?**"
      ]
    },
    {
      "cell_type": "code",
      "execution_count": 28,
      "id": "0ceea861-e5f6-4a86-86f0-788d68a898a5",
      "metadata": {
        "id": "0ceea861-e5f6-4a86-86f0-788d68a898a5",
        "colab": {
          "base_uri": "https://localhost:8080/",
          "height": 36
        },
        "outputId": "ec36587f-b452-4845-c0da-12ae618fec6e"
      },
      "outputs": [
        {
          "output_type": "execute_result",
          "data": {
            "text/plain": [
              "'California'"
            ],
            "application/vnd.google.colaboratory.intrinsic+json": {
              "type": "string"
            }
          },
          "metadata": {},
          "execution_count": 28
        }
      ],
      "source": [
        "m = df.groupby('city')['total Sales'].sum()\n",
        "m.idxmax()"
      ]
    }
  ],
  "metadata": {
    "kernelspec": {
      "display_name": "Python 3 (ipykernel)",
      "language": "python",
      "name": "python3"
    },
    "language_info": {
      "codemirror_mode": {
        "name": "ipython",
        "version": 3
      },
      "file_extension": ".py",
      "mimetype": "text/x-python",
      "name": "python",
      "nbconvert_exporter": "python",
      "pygments_lexer": "ipython3",
      "version": "3.12.4"
    },
    "colab": {
      "provenance": []
    }
  },
  "nbformat": 4,
  "nbformat_minor": 5
}